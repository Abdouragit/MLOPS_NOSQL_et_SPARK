{
 "cells": [
  {
   "cell_type": "markdown",
   "metadata": {},
   "source": [
    "# Mongo tutorial"
   ]
  },
  {
   "cell_type": "markdown",
   "metadata": {},
   "source": [
    "## Prerequisites"
   ]
  },
  {
   "cell_type": "markdown",
   "metadata": {},
   "source": [
    "### Documentation\n",
    "\n",
    "You will find all documentation for :\n",
    "* [Mongo commands](https://docs.mongodb.com/manual/reference/)\n",
    "* [Mongo python client](http://api.mongodb.com/python/current/api/pymongo/mongo_client.html#pymongo.mongo_client.MongoClient)"
   ]
  },
  {
   "cell_type": "markdown",
   "metadata": {},
   "source": [
    "### Import libraries"
   ]
  },
  {
   "cell_type": "code",
   "execution_count": 1,
   "metadata": {},
   "outputs": [],
   "source": [
    "import datetime\n",
    "from pprint import pprint\n",
    "\n",
    "import pymongo\n",
    "from pymongo import MongoClient"
   ]
  },
  {
   "cell_type": "code",
   "execution_count": 2,
   "metadata": {},
   "outputs": [],
   "source": [
    "client = MongoClient('localhost', 27017)"
   ]
  },
  {
   "cell_type": "code",
   "execution_count": 3,
   "metadata": {},
   "outputs": [],
   "source": [
    "# let's work in a test_database\n",
    "db = client.test_database\n",
    "posts = db.posts"
   ]
  },
  {
   "cell_type": "code",
   "execution_count": 4,
   "metadata": {},
   "outputs": [
    {
     "data": {
      "text/plain": [
       "ObjectId('66b91e4d06a099c393b51db4')"
      ]
     },
     "execution_count": 4,
     "metadata": {},
     "output_type": "execute_result"
    }
   ],
   "source": [
    "post = {\n",
    "    \"author\": \"Mike\",\n",
    "    \"text\": \"My first blog post!\",\n",
    "    \"tags\": [\"mongodb\", \"python\", \"pymongo\"],\n",
    "    \"date\": datetime.datetime.utcnow()\n",
    "}\n",
    "post_id = posts.insert_one(post).inserted_id\n",
    "post_id"
   ]
  },
  {
   "cell_type": "code",
   "execution_count": 5,
   "metadata": {},
   "outputs": [
    {
     "data": {
      "text/plain": [
       "['posts']"
      ]
     },
     "execution_count": 5,
     "metadata": {},
     "output_type": "execute_result"
    }
   ],
   "source": [
    "db.list_collection_names()"
   ]
  },
  {
   "cell_type": "code",
   "execution_count": 6,
   "metadata": {},
   "outputs": [
    {
     "name": "stdout",
     "output_type": "stream",
     "text": [
      "{'_id': ObjectId('66b91e4d06a099c393b51db4'),\n",
      " 'author': 'Mike',\n",
      " 'date': datetime.datetime(2024, 8, 11, 20, 25, 49, 300000),\n",
      " 'tags': ['mongodb', 'python', 'pymongo'],\n",
      " 'text': 'My first blog post!'}\n"
     ]
    }
   ],
   "source": [
    "pprint(posts.find_one())"
   ]
  },
  {
   "cell_type": "markdown",
   "metadata": {},
   "source": [
    "You can launch a terminal aside, connect to your server with a mongo client and check that the value is present :\n",
    "\n",
    "```bash\n",
    "vagrant@nosql:~$ mongo\n",
    "> show databases;\n",
    "admin          0.000GB\n",
    "config         0.000GB\n",
    "local          0.000GB\n",
    "test_database  0.000GB\n",
    "> use test_database;\n",
    "switched to db test_database\n",
    "> db.posts.find()\n",
    "{ \n",
    "    \"_id\" : ObjectId(\"...\"), \n",
    "    \"author\" : \"Mike\", \n",
    "    \"text\" : \"My first blog post!\", \n",
    "    \"tags\" : [ \"mongodb\", \"python\", \"pymongo\"], \n",
    "    \"date\" : ISODate(\"2019-02-10T11:33:47.883Z\") \n",
    "}\n",
    "```"
   ]
  },
  {
   "cell_type": "markdown",
   "metadata": {},
   "source": [
    "## I. Quick start"
   ]
  },
  {
   "cell_type": "markdown",
   "metadata": {},
   "source": [
    "### First steps"
   ]
  },
  {
   "cell_type": "markdown",
   "metadata": {},
   "source": [
    "**Q** : Create a document `{msg: 'hello'}` in the `test` collection with `insert_one()`. Fetch it back to display it. What is the `_id` for ?\n",
    "\n",
    "NB : if the collection doesn't exist yet, MongoDB automatically creates it."
   ]
  },
  {
   "cell_type": "code",
   "execution_count": 7,
   "metadata": {},
   "outputs": [
    {
     "data": {
      "text/plain": [
       "ObjectId('66b91e5806a099c393b51db5')"
      ]
     },
     "execution_count": 7,
     "metadata": {},
     "output_type": "execute_result"
    }
   ],
   "source": [
    "test = db.test\n",
    "test_id = test.insert_one({\"msg\":'hello'}).inserted_id\n",
    "test_id"
   ]
  },
  {
   "cell_type": "code",
   "execution_count": 8,
   "metadata": {},
   "outputs": [
    {
     "data": {
      "text/plain": [
       "['posts', 'test']"
      ]
     },
     "execution_count": 8,
     "metadata": {},
     "output_type": "execute_result"
    }
   ],
   "source": [
    "db.list_collection_names()"
   ]
  },
  {
   "cell_type": "markdown",
   "metadata": {},
   "source": [
    "**Q**: Display the number of documents inside the `test` collection"
   ]
  },
  {
   "cell_type": "code",
   "execution_count": 9,
   "metadata": {},
   "outputs": [
    {
     "data": {
      "text/plain": [
       "{'_id': ObjectId('66b91e5806a099c393b51db5'), 'msg': 'hello'}"
      ]
     },
     "execution_count": 9,
     "metadata": {},
     "output_type": "execute_result"
    }
   ],
   "source": [
    "test.find_one()"
   ]
  },
  {
   "cell_type": "code",
   "execution_count": 10,
   "metadata": {},
   "outputs": [
    {
     "data": {
      "text/plain": [
       "2"
      ]
     },
     "execution_count": 10,
     "metadata": {},
     "output_type": "execute_result"
    }
   ],
   "source": [
    "len(test.find_one())"
   ]
  },
  {
   "cell_type": "markdown",
   "metadata": {},
   "source": [
    "### Interacting with a database\n",
    "\n",
    "We have 2 `.json` files we want to interact with inside the `data` folder. Let's first dump them into a `MovieLens` database, inside `users` and `movies` collections.\n",
    "\n",
    "For this section, you will need to read a bit on [query operators](https://docs.mongodb.com/manual/reference/operator/query/#query-selectors). Most methods on collections you will use have `filter` as a first parameter, on which you must pass a dictionary of query parameters."
   ]
  },
  {
   "cell_type": "markdown",
   "metadata": {},
   "source": [
    "**Q** : In the `MovieLens` database, load `data/movielens_movies.json` into `movies` and `data/movielens_users.json` into `users`. \n",
    "\n",
    "Use the dedicated shell command for this : `mongoimport --db <some_db> --collection <some_collection> --file <some_file>` "
   ]
  },
  {
   "cell_type": "code",
   "execution_count": 13,
   "metadata": {},
   "outputs": [],
   "source": [
    "db = client[\"movielens\"]"
   ]
  },
  {
   "cell_type": "code",
   "execution_count": 14,
   "metadata": {},
   "outputs": [],
   "source": [
    "movies = db['movies']"
   ]
  },
  {
   "cell_type": "code",
   "execution_count": 15,
   "metadata": {},
   "outputs": [],
   "source": [
    "users = db['users']"
   ]
  },
  {
   "cell_type": "code",
   "execution_count": 16,
   "metadata": {},
   "outputs": [],
   "source": [
    "# import json"
   ]
  },
  {
   "cell_type": "code",
   "execution_count": 11,
   "metadata": {},
   "outputs": [
    {
     "name": "stderr",
     "output_type": "stream",
     "text": [
      "2024-08-11T22:26:19.158+0200\tconnected to: localhost\n",
      "2024-08-11T22:26:19.362+0200\timported 3883 documents\n"
     ]
    }
   ],
   "source": [
    "!mongoimport --db movielens --collection movies --file data/movielens_movies.json"
   ]
  },
  {
   "cell_type": "code",
   "execution_count": 12,
   "metadata": {},
   "outputs": [
    {
     "name": "stderr",
     "output_type": "stream",
     "text": [
      "2024-08-11T22:26:26.245+0200\tconnected to: localhost\n",
      "2024-08-11T22:26:27.422+0200\timported 6040 documents\n"
     ]
    }
   ],
   "source": [
    "!mongoimport --db movielens --collection users --file data/movielens_users.json"
   ]
  },
  {
   "cell_type": "code",
   "execution_count": 16,
   "metadata": {},
   "outputs": [
    {
     "data": {
      "text/plain": [
       "6040"
      ]
     },
     "execution_count": 16,
     "metadata": {},
     "output_type": "execute_result"
    }
   ],
   "source": [
    "users.count_documents({})"
   ]
  },
  {
   "cell_type": "code",
   "execution_count": 17,
   "metadata": {},
   "outputs": [
    {
     "data": {
      "text/plain": [
       "3883"
      ]
     },
     "execution_count": 17,
     "metadata": {},
     "output_type": "execute_result"
    }
   ],
   "source": [
    "movies.count_documents({})"
   ]
  },
  {
   "cell_type": "code",
   "execution_count": 18,
   "metadata": {},
   "outputs": [
    {
     "data": {
      "text/plain": [
       "['movies', 'users']"
      ]
     },
     "execution_count": 18,
     "metadata": {},
     "output_type": "execute_result"
    }
   ],
   "source": [
    "db.list_collection_names()"
   ]
  },
  {
   "cell_type": "code",
   "execution_count": 22,
   "metadata": {},
   "outputs": [
    {
     "name": "stderr",
     "output_type": "stream",
     "text": [
      "2023-12-18T12:03:40.286+0100\tFailed: error connecting to db server: Unsupported OP_QUERY command: ping. The client driver may require an upgrade. For more details see https://dochub.mongodb.org/core/legacy-opcode-removal\n",
      "2023-12-18T12:03:40.318+0100\timported 0 documents\n"
     ]
    }
   ],
   "source": [
    "# !mongoimport --db movielens --collection movies --file data/movielens_movies.json"
   ]
  },
  {
   "cell_type": "markdown",
   "metadata": {},
   "source": [
    "**Q** : how many users are in the `MovieLens` database ?"
   ]
  },
  {
   "cell_type": "code",
   "execution_count": null,
   "metadata": {},
   "outputs": [],
   "source": []
  },
  {
   "cell_type": "code",
   "execution_count": 28,
   "metadata": {},
   "outputs": [
    {
     "data": {
      "text/plain": [
       "6040"
      ]
     },
     "execution_count": 28,
     "metadata": {},
     "output_type": "execute_result"
    }
   ],
   "source": [
    "users.count_documents({})"
   ]
  },
  {
   "cell_type": "code",
   "execution_count": 48,
   "metadata": {},
   "outputs": [],
   "source": []
  },
  {
   "cell_type": "markdown",
   "metadata": {},
   "source": [
    "**Q** : Display all comedies (the `genres` property equals `Comedy`). \n",
    "\n",
    "NB : You will need to find how to go through a `command_cursor`, then use the `pprint` function for a better display of those documents."
   ]
  },
  {
   "cell_type": "code",
   "execution_count": 19,
   "metadata": {},
   "outputs": [],
   "source": [
    "movies_cursor = movies.find({'genres':'Comedy'},limit = 10)"
   ]
  },
  {
   "cell_type": "code",
   "execution_count": 20,
   "metadata": {},
   "outputs": [
    {
     "data": {
      "text/plain": [
       "{'_id': 12,\n",
       " 'title': 'Dracula: Dead and Loving It (1995)',\n",
       " 'genres': 'Comedy|Horror'}"
      ]
     },
     "execution_count": 20,
     "metadata": {},
     "output_type": "execute_result"
    }
   ],
   "source": [
    "movies.find_one()"
   ]
  },
  {
   "cell_type": "code",
   "execution_count": 21,
   "metadata": {},
   "outputs": [
    {
     "name": "stdout",
     "output_type": "stream",
     "text": [
      "{'_id': 19, 'title': 'Ace Ventura: When Nature Calls (1995)', 'genres': 'Comedy'}\n",
      "{'_id': 5, 'title': 'Father of the Bride Part II (1995)', 'genres': 'Comedy'}\n",
      "{'_id': 38, 'title': 'It Takes Two (1995)', 'genres': 'Comedy'}\n",
      "{'_id': 65, 'title': 'Bio-Dome (1996)', 'genres': 'Comedy'}\n",
      "{'_id': 63, 'title': \"Don't Be a Menace to South Central While Drinking Your Juice in the Hood (1996)\", 'genres': 'Comedy'}\n",
      "{'_id': 69, 'title': 'Friday (1995)', 'genres': 'Comedy'}\n",
      "{'_id': 52, 'title': 'Mighty Aphrodite (1995)', 'genres': 'Comedy'}\n",
      "{'_id': 88, 'title': 'Black Sheep (1996)', 'genres': 'Comedy'}\n",
      "{'_id': 96, 'title': 'In the Bleak Midwinter (1995)', 'genres': 'Comedy'}\n",
      "{'_id': 101, 'title': 'Bottle Rocket (1996)', 'genres': 'Comedy'}\n"
     ]
    }
   ],
   "source": [
    "for i in movies_cursor:\n",
    "    print(i)"
   ]
  },
  {
   "cell_type": "markdown",
   "metadata": {},
   "source": [
    "**Q** : Fetch and display the `name` and `occupation` for Clifford Johnathan. The second paramater for `find()` ([doc here](https://api.mongodb.com/python/current/api/pymongo/collection.html#pymongo.collection.Collection.find)) is called the `projection` and is used to limit which data to fetch from the query."
   ]
  },
  {
   "cell_type": "code",
   "execution_count": 22,
   "metadata": {},
   "outputs": [
    {
     "data": {
      "text/plain": [
       "{'_id': 6038,\n",
       " 'name': 'Yaeko Hassan',\n",
       " 'gender': 'F',\n",
       " 'age': 95,\n",
       " 'occupation': 'academic/educator',\n",
       " 'movies': [{'movieid': 1419, 'rating': 4, 'timestamp': 956714815},\n",
       "  {'movieid': 920, 'rating': 3, 'timestamp': 956706827},\n",
       "  {'movieid': 3088, 'rating': 5, 'timestamp': 956707640},\n",
       "  {'movieid': 232, 'rating': 4, 'timestamp': 956707640},\n",
       "  {'movieid': 1136, 'rating': 4, 'timestamp': 956707708},\n",
       "  {'movieid': 1148, 'rating': 5, 'timestamp': 956707604},\n",
       "  {'movieid': 1183, 'rating': 5, 'timestamp': 956717204},\n",
       "  {'movieid': 2146, 'rating': 4, 'timestamp': 956706909},\n",
       "  {'movieid': 3548, 'rating': 4, 'timestamp': 956707604},\n",
       "  {'movieid': 356, 'rating': 4, 'timestamp': 956707005},\n",
       "  {'movieid': 1210, 'rating': 4, 'timestamp': 956706876},\n",
       "  {'movieid': 1223, 'rating': 5, 'timestamp': 956707734},\n",
       "  {'movieid': 1276, 'rating': 3, 'timestamp': 956707604},\n",
       "  {'movieid': 1296, 'rating': 5, 'timestamp': 956714684},\n",
       "  {'movieid': 1354, 'rating': 3, 'timestamp': 956714725},\n",
       "  {'movieid': 1387, 'rating': 2, 'timestamp': 956707005},\n",
       "  {'movieid': 2700, 'rating': 1, 'timestamp': 956715051},\n",
       "  {'movieid': 2716, 'rating': 3, 'timestamp': 956707604},\n",
       "  {'movieid': 3396, 'rating': 3, 'timestamp': 956706827},\n",
       "  {'movieid': 1079, 'rating': 5, 'timestamp': 956707547}]}"
      ]
     },
     "execution_count": 22,
     "metadata": {},
     "output_type": "execute_result"
    }
   ],
   "source": [
    "users.find_one()"
   ]
  },
  {
   "cell_type": "code",
   "execution_count": 23,
   "metadata": {},
   "outputs": [
    {
     "name": "stdout",
     "output_type": "stream",
     "text": [
      "{'_id': 1276, 'name': 'Clifford Johnathan', 'occupation': 'technician/engineer'}\n"
     ]
    }
   ],
   "source": [
    "for j in users.find({'name':'Clifford Johnathan'}, projection={'name': True,'occupation':True}):\n",
    "    pprint(j)"
   ]
  },
  {
   "cell_type": "markdown",
   "metadata": {},
   "source": [
    "**Q**: How many minors (by `age`) have rated movies ?"
   ]
  },
  {
   "cell_type": "code",
   "execution_count": 25,
   "metadata": {},
   "outputs": [
    {
     "data": {
      "text/plain": [
       "<pymongo.cursor.Cursor at 0x1cced405790>"
      ]
     },
     "execution_count": 25,
     "metadata": {},
     "output_type": "execute_result"
    }
   ],
   "source": [
    "users.find({'age': {'$lt':18} })"
   ]
  },
  {
   "cell_type": "code",
   "execution_count": 26,
   "metadata": {},
   "outputs": [
    {
     "data": {
      "text/plain": [
       "222"
      ]
     },
     "execution_count": 26,
     "metadata": {},
     "output_type": "execute_result"
    }
   ],
   "source": [
    "len([i for i in users.find({'age': {'$lt':18} }) ])"
   ]
  },
  {
   "cell_type": "code",
   "execution_count": 78,
   "metadata": {},
   "outputs": [],
   "source": [
    "#[i for i in users.find({'age': {'$lt':18}})]"
   ]
  },
  {
   "cell_type": "markdown",
   "metadata": {},
   "source": [
    "**Q**: Display science fiction movies ('Sci-Fi') and suspense movies ('Thriller'). This time you need to use a regex to parse genres and look for those values."
   ]
  },
  {
   "cell_type": "code",
   "execution_count": 27,
   "metadata": {},
   "outputs": [
    {
     "name": "stdout",
     "output_type": "stream",
     "text": [
      "{'_id': 16, 'title': 'Casino (1995)', 'genres': 'Drama|Thriller'}\n",
      "{'_id': 18, 'title': 'Four Rooms (1995)', 'genres': 'Thriller'}\n",
      "{'_id': 23, 'title': 'Assassins (1995)', 'genres': 'Thriller'}\n",
      "{'_id': 24, 'title': 'Powder (1995)', 'genres': 'Drama|Sci-Fi'}\n",
      "{'_id': 29, 'title': 'City of Lost Children, The (1995)', 'genres': 'Adventure|Sci-Fi'}\n",
      "{'_id': 6, 'title': 'Heat (1995)', 'genres': 'Action|Crime|Thriller'}\n",
      "{'_id': 22, 'title': 'Copycat (1995)', 'genres': 'Crime|Drama|Thriller'}\n",
      "{'_id': 10, 'title': 'GoldenEye (1995)', 'genres': 'Action|Adventure|Thriller'}\n",
      "{'_id': 32, 'title': 'Twelve Monkeys (1995)', 'genres': 'Drama|Sci-Fi'}\n",
      "{'_id': 47, 'title': 'Seven (Se7en) (1995)', 'genres': 'Crime|Thriller'}\n"
     ]
    }
   ],
   "source": [
    "for i in movies.find({'genres':{'$regex':'Sci-Fi|Thriller'}}, limit = 10):\n",
    "    print(i)"
   ]
  },
  {
   "cell_type": "markdown",
   "metadata": {},
   "source": [
    "**Q**: If we want more advanced textual search, we need a particular index. Use the `create_index()` method to index as [TEXT](https://docs.mongodb.com/manual/core/index-text/) the `genres` field of the `movies` collection."
   ]
  },
  {
   "cell_type": "code",
   "execution_count": 28,
   "metadata": {},
   "outputs": [
    {
     "data": {
      "text/plain": [
       "'genres_text'"
      ]
     },
     "execution_count": 28,
     "metadata": {},
     "output_type": "execute_result"
    }
   ],
   "source": [
    "movies.create_index([('genres', 'text')])"
   ]
  },
  {
   "cell_type": "markdown",
   "metadata": {},
   "source": [
    "**Q**: Restart the search for science fiction and thriller movies with the operator `$text`"
   ]
  },
  {
   "cell_type": "code",
   "execution_count": 29,
   "metadata": {},
   "outputs": [
    {
     "name": "stdout",
     "output_type": "stream",
     "text": [
      "{'_id': 3934, 'title': 'Kronos (1957)', 'genres': 'Sci-Fi'}\n",
      "{'_id': 3878, 'title': 'X: The Unknown (1956)', 'genres': 'Sci-Fi'}\n",
      "{'_id': 3780, 'title': 'Rocketship X-M (1950)', 'genres': 'Sci-Fi'}\n",
      "{'_id': 3779, 'title': 'Project Moon Base (1953)', 'genres': 'Sci-Fi'}\n",
      "{'_id': 3687, 'title': 'Light Years (1988)', 'genres': 'Sci-Fi'}\n",
      "{'_id': 3658, 'title': 'Quatermass and the Pit (1967)', 'genres': 'Sci-Fi'}\n",
      "{'_id': 3486, 'title': 'Devil Girl From Mars (1954)', 'genres': 'Sci-Fi'}\n",
      "{'_id': 3354, 'title': 'Mission to Mars (2000)', 'genres': 'Sci-Fi'}\n",
      "{'_id': 3375, 'title': 'Destination Moon (1950)', 'genres': 'Sci-Fi'}\n",
      "{'_id': 3032, 'title': 'Omega Man, The (1971)', 'genres': 'Sci-Fi'}\n"
     ]
    }
   ],
   "source": [
    "for i in movies.find({'$text':{'$search':'Sci-Fi Thriller'}}, limit = 10):\n",
    "    print(i)"
   ]
  },
  {
   "cell_type": "markdown",
   "metadata": {},
   "source": [
    "**Q**: Display the first 30 movies (`limit`) in alphabetical order (`sort`) by title"
   ]
  },
  {
   "cell_type": "code",
   "execution_count": 31,
   "metadata": {},
   "outputs": [
    {
     "name": "stdout",
     "output_type": "stream",
     "text": [
      "{'_id': 2031, 'title': '$1,000,000 Duck (1971)', 'genres': \"Children's|Comedy\"}\n",
      "{'_id': 3112, 'title': \"'Night Mother (1986)\", 'genres': 'Drama'}\n",
      "{'_id': 779, 'title': \"'Til There Was You (1997)\", 'genres': 'Drama|Romance'}\n",
      "{'_id': 2072, 'title': \"'burbs, The (1989)\", 'genres': 'Comedy'}\n",
      "{'_id': 3420, 'title': '...And Justice for All (1979)', 'genres': 'Drama|Thriller'}\n",
      "{'_id': 889, 'title': '1-900 (1994)', 'genres': 'Romance'}\n",
      "{'_id': 2572, 'title': '10 Things I Hate About You (1999)', 'genres': 'Comedy|Romance'}\n",
      "{'_id': 2085, 'title': '101 Dalmatians (1961)', 'genres': \"Animation|Children's\"}\n",
      "{'_id': 1367, 'title': '101 Dalmatians (1996)', 'genres': \"Children's|Comedy\"}\n",
      "{'_id': 1203, 'title': '12 Angry Men (1957)', 'genres': 'Drama'}\n",
      "{'_id': 2826, 'title': '13th Warrior, The (1999)', 'genres': 'Action|Horror|Thriller'}\n",
      "{'_id': 1609, 'title': '187 (1997)', 'genres': 'Drama'}\n",
      "{'_id': 999, 'title': '2 Days in the Valley (1996)', 'genres': 'Crime'}\n",
      "{'_id': 2492, 'title': '20 Dates (1998)', 'genres': 'Comedy'}\n",
      "{'_id': 1019, 'title': '20,000 Leagues Under the Sea (1954)', 'genres': \"Adventure|Children's|Fantasy|Sci-Fi\"}\n",
      "{'_id': 2504, 'title': '200 Cigarettes (1999)', 'genres': 'Comedy|Drama'}\n",
      "{'_id': 924, 'title': '2001: A Space Odyssey (1968)', 'genres': 'Drama|Mystery|Sci-Fi|Thriller'}\n",
      "{'_id': 2311, 'title': '2010 (1984)', 'genres': 'Mystery|Sci-Fi'}\n",
      "{'_id': 2444, 'title': '24 7: Twenty Four Seven (1997)', 'genres': 'Comedy|Drama'}\n",
      "{'_id': 2486, 'title': '24-hour Woman (1998)', 'genres': 'Drama'}\n",
      "{'_id': 3534, 'title': '28 Days (2000)', 'genres': 'Comedy'}\n",
      "{'_id': 1739, 'title': '3 Ninjas: High Noon On Mega Mountain (1998)', 'genres': \"Action|Children's\"}\n",
      "{'_id': 3322, 'title': '3 Strikes (2000)', 'genres': 'Comedy'}\n",
      "{'_id': 652, 'title': '301, 302 (1995)', 'genres': 'Mystery'}\n",
      "{'_id': 965, 'title': '39 Steps, The (1935)', 'genres': 'Thriller'}\n",
      "{'_id': 2731, 'title': '400 Blows, The (Les Quatre cents coups) (1959)', 'genres': 'Drama'}\n",
      "{'_id': 3077, 'title': '42 Up (1998)', 'genres': 'Documentary'}\n",
      "{'_id': 2475, 'title': '52 Pick-Up (1986)', 'genres': 'Action|Mystery|Thriller'}\n",
      "{'_id': 2188, 'title': '54 (1998)', 'genres': 'Drama'}\n",
      "{'_id': 3153, 'title': '7th Voyage of Sinbad, The (1958)', 'genres': 'Action|Adventure|Fantasy'}\n"
     ]
    }
   ],
   "source": [
    "for i in movies.find().sort(\"title\").limit(30):\n",
    "    print(i)"
   ]
  },
  {
   "cell_type": "markdown",
   "metadata": {},
   "source": [
    "**Q**: How many users have seen the movie \"Star Wars: Episode V - The Empire Strikes Back (1980)\" (`_id 1196`) ? The `movies` argument is an array so we should try the [elemMatch](https://docs.mongodb.com/manual/reference/operator/projection/elemMatch/) operator here."
   ]
  },
  {
   "cell_type": "code",
   "execution_count": 36,
   "metadata": {},
   "outputs": [
    {
     "name": "stdout",
     "output_type": "stream",
     "text": [
      "2990\n"
     ]
    }
   ],
   "source": [
    "print(users.count_documents({\"movies\":{\"$elemMatch\": {\"movieid\":1196}}}))"
   ]
  },
  {
   "cell_type": "markdown",
   "metadata": {},
   "source": [
    "**Q**: And how many gave it a rating of 1 or 2 ?"
   ]
  },
  {
   "cell_type": "code",
   "execution_count": 52,
   "metadata": {},
   "outputs": [
    {
     "name": "stdout",
     "output_type": "stream",
     "text": [
      "105\n"
     ]
    }
   ],
   "source": [
    "print(users.count_documents({'movies': {'$elemMatch': {'movieid': 1196,'rating': {'$in': [1, 2]}}}}))"
   ]
  },
  {
   "cell_type": "markdown",
   "metadata": {},
   "source": [
    "### Updating data"
   ]
  },
  {
   "cell_type": "markdown",
   "metadata": {},
   "source": [
    "**Q**: Insert a new user with the properties `name`, `gender` ('M' or'F'), `occupation` and `age`, using the `insert_one()` command. Display it with `find_one()`."
   ]
  },
  {
   "cell_type": "code",
   "execution_count": 53,
   "metadata": {},
   "outputs": [
    {
     "name": "stdout",
     "output_type": "stream",
     "text": [
      "{'_id': ObjectId('66b9282c06a099c393b51db6'),\n",
      " 'age': 823,\n",
      " 'gender': 'F',\n",
      " 'name': 'Lurania',\n",
      " 'occupation': 'witch'}\n"
     ]
    }
   ],
   "source": [
    "new_user = {\n",
    "    \"name\": \"Lurania\",\n",
    "    \"gender\": \"F\",\n",
    "    \"occupation\": \"witch\",\n",
    "    \"age\": 823,\n",
    "}\n",
    "users.insert_one(new_user)\n",
    "\n",
    "pprint(users.find_one({\"name\": \"Lurania\"}))"
   ]
  },
  {
   "cell_type": "markdown",
   "metadata": {},
   "source": [
    "**Q**: Add an appreciation on a viewed movie with `update_one()`, add the movies property containing a table with a document (`movieid`, `rating`, `timestamp` with the value `datetime.datetime.utcnow()`).\n",
    "\n",
    "You will need to read the documentation on [update operators](https://docs.mongodb.org/manual/reference/operator/update/)."
   ]
  },
  {
   "cell_type": "code",
   "execution_count": 54,
   "metadata": {},
   "outputs": [],
   "source": [
    "from datetime import datetime"
   ]
  },
  {
   "cell_type": "code",
   "execution_count": 55,
   "metadata": {},
   "outputs": [
    {
     "data": {
      "text/plain": [
       "UpdateResult({'n': 1, 'nModified': 1, 'ok': 1.0, 'updatedExisting': True}, acknowledged=True)"
      ]
     },
     "execution_count": 55,
     "metadata": {},
     "output_type": "execute_result"
    }
   ],
   "source": [
    "users.update_one({\"name\": \"Lurania\"},\n",
    "    {\"$push\": {\n",
    "        \"movies\": {\n",
    "            \"movieid\": 1196,\n",
    "            \"rating\": 0,\n",
    "            \"timestamp\": datetime.utcnow()\n",
    "            }}})"
   ]
  },
  {
   "cell_type": "markdown",
   "metadata": {},
   "source": [
    "**Q**: Find the number of users who have declared a `programmer` occupation. Modify them so that they are `developer`. Verify your update."
   ]
  },
  {
   "cell_type": "code",
   "execution_count": 56,
   "metadata": {},
   "outputs": [
    {
     "name": "stdout",
     "output_type": "stream",
     "text": [
      "388\n"
     ]
    }
   ],
   "source": [
    "print(users.count_documents({'occupation': 'programmer'}))"
   ]
  },
  {
   "cell_type": "code",
   "execution_count": 57,
   "metadata": {},
   "outputs": [
    {
     "data": {
      "text/plain": [
       "UpdateResult({'n': 388, 'nModified': 388, 'ok': 1.0, 'updatedExisting': True}, acknowledged=True)"
      ]
     },
     "execution_count": 57,
     "metadata": {},
     "output_type": "execute_result"
    }
   ],
   "source": [
    "users.update_many({'occupation': 'programmer'},\n",
    "    {'$set': {'occupation': 'developer'}})"
   ]
  },
  {
   "cell_type": "code",
   "execution_count": 58,
   "metadata": {},
   "outputs": [
    {
     "name": "stdout",
     "output_type": "stream",
     "text": [
      "0\n"
     ]
    }
   ],
   "source": [
    "print(users.count_documents({'occupation': 'programmer'}))"
   ]
  },
  {
   "cell_type": "code",
   "execution_count": 59,
   "metadata": {},
   "outputs": [
    {
     "name": "stdout",
     "output_type": "stream",
     "text": [
      "388\n"
     ]
    }
   ],
   "source": [
    "print(users.count_documents({'occupation': 'developer'}))"
   ]
  },
  {
   "cell_type": "markdown",
   "metadata": {},
   "source": [
    "## II. Modelling a blog\n",
    "\n",
    "We will now model a blog using Mongo. \n",
    "\n",
    "First, switch to a new `Blog` database. Each blog post will have the following arguments:\n",
    "\n",
    "* The author (author field, string type)\n",
    "* The date (date field, string type in YYYY-MM-DD format)\n",
    "* The content (field content)\n",
    "* Tags (field tags, a string array)\n",
    "* A list of comments (field comments) containing:\n",
    " * The author (author field, string type)\n",
    " * The date (date field, string type in YYYY-MM-DD format)\n",
    " * The content (field content)\n"
   ]
  },
  {
   "cell_type": "code",
   "execution_count": 60,
   "metadata": {},
   "outputs": [],
   "source": [
    "blog = client.Blog\n",
    "\n",
    "posts = blog.posts"
   ]
  },
  {
   "cell_type": "markdown",
   "metadata": {},
   "source": [
    "**Q**: Create a first post by `rick`, on January 15th, with the tags `mongodb` and `nosql`."
   ]
  },
  {
   "cell_type": "code",
   "execution_count": 62,
   "metadata": {},
   "outputs": [
    {
     "data": {
      "text/plain": [
       "InsertOneResult(ObjectId('66b92bd306a099c393b51db7'), acknowledged=True)"
      ]
     },
     "execution_count": 62,
     "metadata": {},
     "output_type": "execute_result"
    }
   ],
   "source": [
    "post_1 = {\n",
    "    'author': 'Rick',\n",
    "    'date': '2024-01-15', \n",
    "    'content': 'Never let your grandchild adopt a dragon.',\n",
    "    'tags': ['mongodb', 'nosql'],\n",
    "    'comments': []\n",
    "}\n",
    "\n",
    "posts.insert_one(post_1)"
   ]
  },
  {
   "cell_type": "markdown",
   "metadata": {},
   "source": [
    "**Q**: Create a second post by `kate`, on January 21, with the tag `nosql` and a comment from `rick` on the same day."
   ]
  },
  {
   "cell_type": "code",
   "execution_count": 63,
   "metadata": {},
   "outputs": [
    {
     "data": {
      "text/plain": [
       "InsertOneResult(ObjectId('66b92dda06a099c393b51db8'), acknowledged=True)"
      ]
     },
     "execution_count": 63,
     "metadata": {},
     "output_type": "execute_result"
    }
   ],
   "source": [
    "post_2 = {\n",
    "    'author': 'Kate',\n",
    "    'date': '2024-01-21', \n",
    "    'content': 'Can you believe this ? I just met a grey talking cat !',\n",
    "    'tags': ['nosql'],\n",
    "    'comments': [\n",
    "        {'author': 'Rick',\n",
    "        'date': '2024-01-21', \n",
    "        'content': 'You should get rid of that thing as soon as possible.'}]\n",
    "}\n",
    "\n",
    "posts.insert_one(post_2)"
   ]
  },
  {
   "cell_type": "markdown",
   "metadata": {},
   "source": [
    "**Q**: Display the author of the last post with the tag `nosql`"
   ]
  },
  {
   "cell_type": "code",
   "execution_count": 64,
   "metadata": {},
   "outputs": [
    {
     "name": "stdout",
     "output_type": "stream",
     "text": [
      "{'_id': ObjectId('66b92dda06a099c393b51db8'),\n",
      " 'author': 'Kate',\n",
      " 'comments': [{'author': 'Rick',\n",
      "               'content': 'You should get rid of that thing as soon as '\n",
      "                          'possible.',\n",
      "               'date': '2024-01-21'}],\n",
      " 'content': 'Can you believe this ? I just met a grey talking cat !',\n",
      " 'date': '2024-01-21',\n",
      " 'tags': ['nosql']}\n"
     ]
    }
   ],
   "source": [
    "pprint(posts.find_one(\n",
    "    {'tags': 'nosql'},\n",
    "    sort=[('date', -1)]))"
   ]
  },
  {
   "cell_type": "markdown",
   "metadata": {},
   "source": [
    "**Q**: Add a comment by `jack` on January 25, to `kate`'s post"
   ]
  },
  {
   "cell_type": "code",
   "execution_count": 65,
   "metadata": {},
   "outputs": [
    {
     "data": {
      "text/plain": [
       "UpdateResult({'n': 1, 'nModified': 1, 'ok': 1.0, 'updatedExisting': True}, acknowledged=True)"
      ]
     },
     "execution_count": 65,
     "metadata": {},
     "output_type": "execute_result"
    }
   ],
   "source": [
    "posts.update_one(\n",
    "    {'author': 'Kate'},\n",
    "    {\n",
    "        \"$push\": {\n",
    "            'comments': [\n",
    "                {\n",
    "                    'author': 'Jack',\n",
    "                    'date': '2024-01-25',\n",
    "                    'content': 'Don''t listen to haters. Don''t you want to know why that cat can speak ?'\n",
    "                }\n",
    "            ]\n",
    "        }\n",
    "    }\n",
    ")"
   ]
  },
  {
   "cell_type": "markdown",
   "metadata": {},
   "source": [
    "**Q**: Display all comments by `kate`"
   ]
  },
  {
   "cell_type": "code",
   "execution_count": 72,
   "metadata": {},
   "outputs": [
    {
     "name": "stdout",
     "output_type": "stream",
     "text": [
      "{'_id': ObjectId('66b92dda06a099c393b51db8'),\n",
      " 'author': 'Kate',\n",
      " 'comments': [{'author': 'Rick',\n",
      "               'content': 'You should get rid of that thing as soon as '\n",
      "                          'possible.',\n",
      "               'date': '2024-01-21'},\n",
      "              [{'author': 'Jack',\n",
      "                'content': 'Dont listen to haters. Dont you want to know why '\n",
      "                           'that cat can speak ?',\n",
      "                'date': '2024-01-25'}]],\n",
      " 'content': 'Can you believe this ? I just met a grey talking cat !',\n",
      " 'date': '2024-01-21',\n",
      " 'tags': ['nosql']}\n"
     ]
    }
   ],
   "source": [
    "for i in posts.find({'author': 'Kate'}) : \n",
    "    pprint(i)"
   ]
  },
  {
   "cell_type": "markdown",
   "metadata": {},
   "source": [
    "## Postquisites"
   ]
  },
  {
   "cell_type": "code",
   "execution_count": null,
   "metadata": {},
   "outputs": [],
   "source": [
    "!mongo test_database --eval 'db.dropDatabase()'"
   ]
  },
  {
   "cell_type": "code",
   "execution_count": null,
   "metadata": {},
   "outputs": [],
   "source": [
    "!mongo MovieLens --eval 'db.dropDatabase()'"
   ]
  },
  {
   "cell_type": "code",
   "execution_count": null,
   "metadata": {},
   "outputs": [],
   "source": [
    "!mongo Blog --eval 'db.dropDatabase()'"
   ]
  }
 ],
 "metadata": {
  "kernelspec": {
   "display_name": "Python 3 (ipykernel)",
   "language": "python",
   "name": "python3"
  },
  "language_info": {
   "codemirror_mode": {
    "name": "ipython",
    "version": 3
   },
   "file_extension": ".py",
   "mimetype": "text/x-python",
   "name": "python",
   "nbconvert_exporter": "python",
   "pygments_lexer": "ipython3",
   "version": "3.9.18"
  }
 },
 "nbformat": 4,
 "nbformat_minor": 4
}
